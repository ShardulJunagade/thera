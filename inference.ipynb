{
 "cells": [
  {
   "cell_type": "code",
   "execution_count": 4,
   "id": "7d8946e7",
   "metadata": {},
   "outputs": [
    {
     "name": "stdout",
     "output_type": "stream",
     "text": [
      "['9306974_2877087.tif', '9306974_2910108.tif', '9312478_2910108.tif', '9312478_2912859.tif', '9315230_2915611.tif', '9323485_2868832.tif', '9323485_2871583.tif', '9326237_2868832.tif', '9326237_2921115.tif', '9339995_2934873.tif']\n"
     ]
    }
   ],
   "source": [
    "import subprocess\n",
    "import os\n",
    "from tqdm import tqdm\n",
    "\n",
    "# List of input files\n",
    "input_dir = \"./data/bihar/train/images/\"\n",
    "\n",
    "input_files = sorted(os.listdir(input_dir))[:10]\n",
    "print(input_files)"
   ]
  },
  {
   "cell_type": "code",
   "execution_count": 5,
   "id": "684fcfeb",
   "metadata": {},
   "outputs": [
    {
     "name": "stderr",
     "output_type": "stream",
     "text": [
      "Processing files: 100%|██████████| 10/10 [09:40<00:00, 58.05s/it]\n"
     ]
    }
   ],
   "source": [
    "# set gpu\n",
    "os.environ[\"CUDA_VISIBLE_DEVICES\"] = \"1,2,3\"\n",
    "\n",
    "# Iterate over the files with a progress bar\n",
    "for input_file in tqdm(input_files, desc=\"Processing files\"):\n",
    "    input_file_path = os.path.join(input_dir, input_file)\n",
    "    output_file = \"./\" + input_file.replace(\".jpg\", \"_sr.jpg\")\n",
    "    command = [\n",
    "        \"python\", \"./super_resolve.py\", input_file_path, output_file,\n",
    "        \"--scale\", \"4\", \"--checkpoint\", \"thera-rdn-pro.pkl\"\n",
    "    ]\n",
    "    subprocess.run(command)"
   ]
  },
  {
   "cell_type": "code",
   "execution_count": null,
   "id": "734528d8",
   "metadata": {},
   "outputs": [],
   "source": []
  }
 ],
 "metadata": {
  "kernelspec": {
   "display_name": "thera",
   "language": "python",
   "name": "python3"
  },
  "language_info": {
   "codemirror_mode": {
    "name": "ipython",
    "version": 3
   },
   "file_extension": ".py",
   "mimetype": "text/x-python",
   "name": "python",
   "nbconvert_exporter": "python",
   "pygments_lexer": "ipython3",
   "version": "3.10.16"
  }
 },
 "nbformat": 4,
 "nbformat_minor": 5
}
